{
 "cells": [
  {
   "cell_type": "code",
   "execution_count": 125,
   "metadata": {},
   "outputs": [],
   "source": [
    "import numpy as np # linear algebra\n",
    "import pandas as pd # data processing, CSV file I/O (e.g. pd.read_csv)\n",
    "import librosa\n",
    "import matplotlib.pyplot as plt\n",
    "import os\n",
    "import cv2\n",
    "import IPython.display as ipd\n",
    "import glob\n",
    "from os.path import join\n",
    "import scipy.io as sio\n",
    "import scipy.io.wavfile\n",
    "from scipy.io.wavfile import write\n",
    "import soundfile as sf"
   ]
  },
  {
   "cell_type": "code",
   "execution_count": 126,
   "metadata": {},
   "outputs": [],
   "source": [
    "path_to_background=r'C:\\Users\\jewoos62\\sound_processing\\background'\n",
    "path_to_original=r'C:\\Users\\jewoos62\\sound_processing\\original'"
   ]
  },
  {
   "cell_type": "code",
   "execution_count": 127,
   "metadata": {},
   "outputs": [],
   "source": [
    "def read_backgrounds(path_to_dir_background):\n",
    "    files = []\n",
    "    files.append(glob.glob(join(path_to_dir_background, '*.wav')))\n",
    "    backgrounds=[]\n",
    "    srs=[]\n",
    "    for i in range(len(files[0])):\n",
    "        bg, sr = librosa.load(files[0][i])\n",
    "        #print(type(librosa.load(files[0][i])))\n",
    "        backgrounds.append(bg)\n",
    "        srs.append(sr)\n",
    "    return backgrounds, srs"
   ]
  },
  {
   "cell_type": "code",
   "execution_count": 128,
   "metadata": {},
   "outputs": [],
   "source": [
    "def read_original(path_to_dir_original):\n",
    "    file=(glob.glob(join(path_to_dir_original, '*.wav')))\n",
    "    ori, sr = librosa.load(file[0])\n",
    "    print(librosa.load(file[0]))\n",
    "    return ori, sr"
   ]
  },
  {
   "cell_type": "code",
   "execution_count": 129,
   "metadata": {},
   "outputs": [],
   "source": [
    "def matching_len_to_ori(path_to_dir_background,path_to_dir_original):\n",
    "    backgrounds,srs_back=read_backgrounds(path_to_dir_background)\n",
    "    ori,srs_ori=read_original(path_to_dir_original)\n",
    "    #print(srs_back,srs_ori)\n",
    "    for i in range(len(srs_back)):\n",
    "        if len(backgrounds[i])>=len(ori):\n",
    "            backgrounds[i]=backgrounds[i][:len(ori)]\n",
    "        else:\n",
    "            ori=ori[:len(backgrounds[i])]\n",
    "    return backgrounds,srs_back,ori,srs_ori"
   ]
  },
  {
   "cell_type": "code",
   "execution_count": 130,
   "metadata": {},
   "outputs": [
    {
     "name": "stdout",
     "output_type": "stream",
     "text": [
      "(array([ 0.00052048,  0.00109254, -0.00027734, ..., -0.01095151,\n",
      "       -0.00723698, -0.00686373], dtype=float32), 22050)\n"
     ]
    }
   ],
   "source": [
    "bgs,srs_backs,ori,srs_ori=matching_len_to_ori(path_to_background,path_to_original)"
   ]
  },
  {
   "cell_type": "code",
   "execution_count": 131,
   "metadata": {},
   "outputs": [],
   "source": [
    "def mixing(bg,ori):\n",
    "    wav_with_bg = ori * np.random.uniform(0.8, 1.2) + \\\n",
    "              bg * np.random.uniform(0.3,0.5)\n",
    "    return (wav_with_bg)"
   ]
  },
  {
   "cell_type": "code",
   "execution_count": 132,
   "metadata": {},
   "outputs": [],
   "source": [
    "num_backgrounds=len(glob.glob(join(path_to_background, '*.wav')))\n",
    "for i in range(num_backgrounds):\n",
    "    wav_with_bg=mixing(bgs[i],ori)\n",
    "#    result=(wav_with_bg,srs_ori)\n",
    "    sf.write('mixed'+str(i)+'.wav', wav_with_bg,srs_ori)"
   ]
  },
  {
   "cell_type": "code",
   "execution_count": null,
   "metadata": {},
   "outputs": [],
   "source": []
  },
  {
   "cell_type": "code",
   "execution_count": null,
   "metadata": {},
   "outputs": [],
   "source": []
  },
  {
   "cell_type": "code",
   "execution_count": null,
   "metadata": {},
   "outputs": [],
   "source": []
  },
  {
   "cell_type": "code",
   "execution_count": null,
   "metadata": {},
   "outputs": [],
   "source": []
  }
 ],
 "metadata": {
  "kernelspec": {
   "display_name": "Python [conda env:jewoos62] *",
   "language": "python",
   "name": "conda-env-jewoos62-py"
  },
  "language_info": {
   "codemirror_mode": {
    "name": "ipython",
    "version": 3
   },
   "file_extension": ".py",
   "mimetype": "text/x-python",
   "name": "python",
   "nbconvert_exporter": "python",
   "pygments_lexer": "ipython3",
   "version": "3.7.4"
  }
 },
 "nbformat": 4,
 "nbformat_minor": 2
}
